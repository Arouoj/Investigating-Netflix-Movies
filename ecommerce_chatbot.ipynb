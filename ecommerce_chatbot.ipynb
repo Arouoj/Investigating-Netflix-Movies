{
  "nbformat": 4,
  "nbformat_minor": 0,
  "metadata": {
    "colab": {
      "provenance": [],
      "include_colab_link": true
    },
    "kernelspec": {
      "name": "python3",
      "display_name": "Python 3"
    },
    "language_info": {
      "name": "python"
    }
  },
  "cells": [
    {
      "cell_type": "markdown",
      "metadata": {
        "id": "view-in-github",
        "colab_type": "text"
      },
      "source": [
        "<a href=\"https://colab.research.google.com/github/Arouoj/Investigating-Netflix-Movies/blob/main/ecommerce_chatbot.ipynb\" target=\"_parent\"><img src=\"https://colab.research.google.com/assets/colab-badge.svg\" alt=\"Open In Colab\"/></a>"
      ]
    },
    {
      "cell_type": "code",
      "source": [
        "!pip install -qU langchain-groq langchain-community"
      ],
      "metadata": {
        "id": "sK5eo4eZqurJ",
        "outputId": "0742a32b-a719-4af8-a928-1c54c604289b",
        "colab": {
          "base_uri": "https://localhost:8080/"
        }
      },
      "execution_count": 1,
      "outputs": [
        {
          "output_type": "stream",
          "name": "stdout",
          "text": [
            "\u001b[2K   \u001b[90m━━━━━━━━━━━━━━━━━━━━━━━━━━━━━━━━━━━━━━━━\u001b[0m \u001b[32m2.5/2.5 MB\u001b[0m \u001b[31m16.6 MB/s\u001b[0m eta \u001b[36m0:00:00\u001b[0m\n",
            "\u001b[2K   \u001b[90m━━━━━━━━━━━━━━━━━━━━━━━━━━━━━━━━━━━━━━━━\u001b[0m \u001b[32m121.9/121.9 kB\u001b[0m \u001b[31m5.0 MB/s\u001b[0m eta \u001b[36m0:00:00\u001b[0m\n",
            "\u001b[2K   \u001b[90m━━━━━━━━━━━━━━━━━━━━━━━━━━━━━━━━━━━━━━━━\u001b[0m \u001b[32m50.9/50.9 kB\u001b[0m \u001b[31m3.0 MB/s\u001b[0m eta \u001b[36m0:00:00\u001b[0m\n",
            "\u001b[?25h"
          ]
        }
      ]
    },
    {
      "cell_type": "code",
      "source": [
        "import os\n",
        "from sqlalchemy import create_engine, Column, String, Float, Integer\n",
        "from sqlalchemy.orm import declarative_base, sessionmaker\n",
        "from langchain_community.utilities import SQLDatabase\n",
        "from langchain.chains import create_sql_query_chain\n",
        "\n",
        "from langchain_groq import ChatGroq\n",
        "from google.colab import userdata, drive\n",
        "\n",
        "from typing import List, Tuple, Any"
      ],
      "metadata": {
        "id": "psdZLlYTqQJt"
      },
      "execution_count": 2,
      "outputs": []
    },
    {
      "cell_type": "code",
      "source": [
        "# Mount Google Drive for persistent storage\n",
        "drive.mount('/content/drive')\n",
        "\n",
        "# Define database path in Google Drive\n",
        "DB_PATH = \"/content/drive/MyDrive/product_database/products.db\"\n",
        "os.makedirs(os.path.dirname(DB_PATH), exist_ok=True)\n",
        "DATABASE_URL = f\"sqlite:///{DB_PATH}\""
      ],
      "metadata": {
        "colab": {
          "base_uri": "https://localhost:8080/"
        },
        "id": "2r92wB4aqjz4",
        "outputId": "f634936a-2459-4042-97aa-f1d3be392f5a"
      },
      "execution_count": 3,
      "outputs": [
        {
          "output_type": "stream",
          "name": "stdout",
          "text": [
            "Mounted at /content/drive\n"
          ]
        }
      ]
    },
    {
      "cell_type": "code",
      "source": [
        "# Initialize database engine\n",
        "engine = create_engine(DATABASE_URL, echo=True)"
      ],
      "metadata": {
        "id": "htsmxEFxqoas"
      },
      "execution_count": 4,
      "outputs": []
    },
    {
      "cell_type": "code",
      "source": [
        "# Define Base class\n",
        "Base = declarative_base()\n",
        "\n",
        "# Define Product model\n",
        "class Product(Base):\n",
        "    __tablename__ = \"products\"\n",
        "\n",
        "    id = Column(String, primary_key=True)\n",
        "    name = Column(String, nullable=False)\n",
        "    category = Column(String, nullable=False)\n",
        "    price = Column(Float, nullable=False)\n",
        "    description = Column(String)\n",
        "    brand = Column(String, nullable=False)\n",
        "    stock = Column(Integer, nullable=False)\n",
        "    rating = Column(Float)\n",
        "\n",
        "    def __repr__(self):\n",
        "        return f\"<Product(name='{self.name}', brand='{self.brand}', price={self.price})>\""
      ],
      "metadata": {
        "id": "rsgg0RhTqeNf"
      },
      "execution_count": 5,
      "outputs": []
    },
    {
      "cell_type": "code",
      "source": [
        "def initialize_database():\n",
        "    # Create table\n",
        "    Base.metadata.create_all(engine)\n",
        "\n",
        "    # Create a session\n",
        "    Session = sessionmaker(bind=engine)\n",
        "    session = Session()\n",
        "\n",
        "    # Check if products already exist\n",
        "    if session.query(Product).first() is None:\n",
        "        # Product data (20 products)\n",
        "        products = [\n",
        "            Product(id=\"P001\", name=\"Wireless Bluetooth Headphones\", category=\"Electronics\", price=79.99,\n",
        "                   description=\"High-quality wireless headphones with noise cancellation\", brand=\"SoundMax\", stock=45, rating=4.5),\n",
        "            Product(id=\"P002\", name=\"Smart Fitness Tracker\", category=\"Wearables\", price=49.99,\n",
        "                   description=\"Track your steps, heart rate, and sleep patterns\", brand=\"FitTech\", stock=30, rating=4.3),\n",
        "            Product(id=\"P003\", name=\"Organic Cotton T-Shirt\", category=\"Clothing\", price=24.99,\n",
        "                   description=\"100% organic cotton, sustainable fashion\", brand=\"EcoWear\", stock=100, rating=4.7),\n",
        "            Product(id=\"P004\", name=\"Professional Chef Knife\", category=\"Kitchen\", price=89.99,\n",
        "                   description=\"High-carbon stainless steel chef knife\", brand=\"ChefPro\", stock=25, rating=4.8),\n",
        "            Product(id=\"P005\", name=\"Yoga Mat\", category=\"Sports\", price=29.99,\n",
        "                   description=\"Non-slip, eco-friendly yoga mat\", brand=\"YogaFlex\", stock=60, rating=4.4),\n",
        "            Product(id=\"P006\", name=\"Coffee Maker\", category=\"Kitchen\", price=129.99,\n",
        "                   description=\"Programmable coffee maker with thermal carafe\", brand=\"BrewMaster\", stock=20, rating=4.6),\n",
        "            Product(id=\"P007\", name=\"LED Desk Lamp\", category=\"Home Office\", price=39.99,\n",
        "                   description=\"Adjustable LED lamp with wireless charging\", brand=\"LightPro\", stock=50, rating=4.2),\n",
        "            Product(id=\"P008\", name=\"Running Shoes\", category=\"Sports\", price=89.99,\n",
        "                   description=\"Lightweight running shoes with cushioning\", brand=\"SpeedRun\", stock=40, rating=4.5),\n",
        "            Product(id=\"P009\", name=\"Wireless Mouse\", category=\"Electronics\", price=25.99,\n",
        "                   description=\"Ergonomic wireless mouse with precision tracking\", brand=\"TechGear\", stock=80, rating=4.3),\n",
        "            Product(id=\"P010\", name=\"Noise-Canceling Earbuds\", category=\"Electronics\", price=99.99,\n",
        "                   description=\"Premium earbuds with active noise canceling\", brand=\"SoundElite\", stock=35, rating=4.6),\n",
        "            Product(id=\"P011\", name=\"Smartwatch\", category=\"Wearables\", price=199.99,\n",
        "                   description=\"Advanced smartwatch with fitness tracking and notifications\", brand=\"TimeTech\", stock=20, rating=4.7),\n",
        "            Product(id=\"P012\", name=\"Gaming Keyboard\", category=\"Electronics\", price=59.99,\n",
        "                   description=\"Mechanical gaming keyboard with RGB lighting\", brand=\"GamerPro\", stock=50, rating=4.5),\n",
        "            Product(id=\"P013\", name=\"4K Monitor\", category=\"Electronics\", price=299.99,\n",
        "                   description=\"27-inch 4K UHD monitor with high refresh rate\", brand=\"VisionTech\", stock=15, rating=4.8),\n",
        "            Product(id=\"P014\", name=\"Portable Power Bank\", category=\"Accessories\", price=39.99,\n",
        "                   description=\"10000mAh fast-charging power bank\", brand=\"ChargeMax\", stock=75, rating=4.4),\n",
        "            Product(id=\"P015\", name=\"Wireless Charging Pad\", category=\"Accessories\", price=29.99,\n",
        "                   description=\"Fast wireless charging pad for multiple devices\", brand=\"QiCharge\", stock=60, rating=4.3),\n",
        "            Product(id=\"P016\", name=\"Backpack for Laptops\", category=\"Bags\", price=49.99,\n",
        "                   description=\"Water-resistant backpack with laptop compartment\", brand=\"TravelGear\", stock=90, rating=4.6),\n",
        "            Product(id=\"P017\", name=\"Mechanical Pencil Set\", category=\"Office Supplies\", price=19.99,\n",
        "                   description=\"Premium mechanical pencils with extra refills\", brand=\"WritePerfect\", stock=100, rating=4.5),\n",
        "            Product(id=\"P018\", name=\"Wireless Security Camera\", category=\"Home Security\", price=129.99,\n",
        "                   description=\"Full HD wireless security camera with night vision\", brand=\"SafeHome\", stock=30, rating=4.7),\n",
        "            Product(id=\"P019\", name=\"Electric Toothbrush\", category=\"Personal Care\", price=89.99,\n",
        "                   description=\"Rechargeable electric toothbrush with multiple modes\", brand=\"SmileCare\", stock=55, rating=4.6),\n",
        "            Product(id=\"P020\", name=\"Air Purifier\", category=\"Home Appliances\", price=159.99,\n",
        "                   description=\"HEPA air purifier for allergies and dust\", brand=\"PureAir\", stock=25, rating=4.8)\n",
        "        ]\n",
        "\n",
        "        # Add and commit data\n",
        "        session.add_all(products)\n",
        "        session.commit()\n",
        "        print(\"Data inserted successfully!\")\n",
        "    else:\n",
        "        print(\"Database already contains products.\")\n",
        "\n",
        "    session.close()"
      ],
      "metadata": {
        "id": "oR94EpzMqeE1"
      },
      "execution_count": 6,
      "outputs": []
    },
    {
      "cell_type": "code",
      "source": [
        "def clean_sql_query(query: str) -> str:\n",
        "    \"\"\"Clean the SQL query by removing formatting and fixing common issues\"\"\"\n",
        "    # Remove 'SQLQuery:' prefix if present\n",
        "    if 'SQLQuery:' in query:\n",
        "        query = query.split('SQLQuery:', 1)[1]\n",
        "\n",
        "    # Remove markdown SQL formatting\n",
        "    query = query.replace('```sql', '').replace('```', '')\n",
        "\n",
        "    # Remove quotes from identifiers\n",
        "    query = query.replace('\"id\"', 'id')\n",
        "    query = query.replace('\"name\"', 'name')\n",
        "    query = query.replace('\"category\"', 'category')\n",
        "    query = query.replace('\"price\"', 'price')\n",
        "    query = query.replace('\"description\"', 'description')\n",
        "    query = query.replace('\"brand\"', 'brand')\n",
        "    query = query.replace('\"stock\"', 'stock')\n",
        "    query = query.replace('\"rating\"', 'rating')\n",
        "\n",
        "    # Strip whitespace and semicolon\n",
        "    query = query.strip()\n",
        "    if query.endswith(';'):\n",
        "        query = query[:-1]\n",
        "\n",
        "    return query"
      ],
      "metadata": {
        "id": "tEW4ezVXqcpa"
      },
      "execution_count": 7,
      "outputs": []
    },
    {
      "cell_type": "code",
      "source": [
        "def setup_chatbot():\n",
        "    # Initialize LLM\n",
        "    GROQ_API_KEY = \"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\"\n",
        "    if not GROQ_API_KEY:\n",
        "        raise ValueError(\"GROQ_API_KEY not found in Colab userdata\")\n",
        "\n",
        "    llm = ChatGroq(\n",
        "        model_name=\"llama3-70b-8192\",\n",
        "        groq_api_key=GROQ_API_KEY,\n",
        "        temperature=0\n",
        "    )\n",
        "\n",
        "    # Connect LangChain to the database\n",
        "    db = SQLDatabase.from_uri(DATABASE_URL)\n",
        "\n",
        "    # Create SQL Chain using the new syntax\n",
        "    chain = create_sql_query_chain(llm, db)\n",
        "    return chain, db"
      ],
      "metadata": {
        "id": "_GO_MtR7qTit"
      },
      "execution_count": 8,
      "outputs": []
    },
    {
      "cell_type": "code",
      "source": [
        "def chat_with_sql(chain, db, query):\n",
        "    try:\n",
        "        # Generate SQL query\n",
        "        sql_query = chain.invoke({\"question\": query})\n",
        "        # Clean the SQL query\n",
        "        cleaned_query = clean_sql_query(sql_query)\n",
        "        # Execute the query\n",
        "        result = db.run(cleaned_query)\n",
        "        return f\"Original Query: {query}\\nSQL Query: {cleaned_query}\\nResult: {result}\"\n",
        "    except Exception as e:\n",
        "        return f\"Error processing query: {str(e)}\\nGenerated SQL: {sql_query}\""
      ],
      "metadata": {
        "id": "B2LGdB5LqTSM"
      },
      "execution_count": 9,
      "outputs": []
    },
    {
      "cell_type": "code",
      "source": [
        "# Test Function\n",
        "def main():\n",
        "    # Initialize database and insert data\n",
        "    initialize_database()\n",
        "\n",
        "    # Setup chatbot\n",
        "    try:\n",
        "        chain, db = setup_chatbot()\n",
        "\n",
        "        # Test queries\n",
        "        test_queries = [\n",
        "            \"What is the cheapest product?\",\n",
        "            \"Show me top rated electronics products.\",\n",
        "        ]\n",
        "\n",
        "        for query in test_queries:\n",
        "            print(\"\\nQuery:\", query)\n",
        "            print(\"Bot Response:\", chat_with_sql(chain, db, query))\n",
        "\n",
        "    except Exception as e:\n",
        "        print(f\"Error setting up chatbot: {str(e)}\")\n",
        "\n",
        "# if __name__ == \"__main__\":\n",
        "#     main()"
      ],
      "metadata": {
        "id": "nWi3KbFfqTL0"
      },
      "execution_count": 10,
      "outputs": []
    },
    {
      "cell_type": "code",
      "source": [
        "def start_chatbot():\n",
        "    print(\"Hello! I am your product assistant. You can start asking questions now.\\n(Type 'exit' to end the chat.)\")\n",
        "\n",
        "    # Initialize the database and chatbot\n",
        "    try:\n",
        "        initialize_database()\n",
        "        chain, db = setup_chatbot()\n",
        "\n",
        "        while True:\n",
        "            user_input = input(\"You: \")\n",
        "\n",
        "            if user_input.lower() in [\"exit\", \"quit\", \"q\"]:\n",
        "                print(\"Goodbye! Have a great day!\")\n",
        "                break\n",
        "\n",
        "            result = chat_with_sql(chain, db, user_input)\n",
        "            print(\"Bot:\", result + \"\\n\")\n",
        "\n",
        "    except Exception as e:\n",
        "        print(f\"Error setting up chatbot: {str(e)}\")\n",
        "\n",
        "\n",
        "# Run the interactive chatbot\n",
        "start_chatbot()"
      ],
      "metadata": {
        "colab": {
          "base_uri": "https://localhost:8080/",
          "height": 759
        },
        "id": "2sbg4e7fqxuq",
        "outputId": "41513e02-247f-4255-82f1-6ba83aa4c470"
      },
      "execution_count": 11,
      "outputs": [
        {
          "output_type": "error",
          "ename": "KeyboardInterrupt",
          "evalue": "Interrupted by user",
          "traceback": [
            "\u001b[0;31m---------------------------------------------------------------------------\u001b[0m",
            "\u001b[0;31mKeyboardInterrupt\u001b[0m                         Traceback (most recent call last)",
            "\u001b[0;32m<ipython-input-11-521f9acd2bd9>\u001b[0m in \u001b[0;36m<cell line: 0>\u001b[0;34m()\u001b[0m\n\u001b[1;32m     22\u001b[0m \u001b[0;34m\u001b[0m\u001b[0m\n\u001b[1;32m     23\u001b[0m \u001b[0;31m# Run the interactive chatbot\u001b[0m\u001b[0;34m\u001b[0m\u001b[0;34m\u001b[0m\u001b[0m\n\u001b[0;32m---> 24\u001b[0;31m \u001b[0mstart_chatbot\u001b[0m\u001b[0;34m(\u001b[0m\u001b[0;34m)\u001b[0m\u001b[0;34m\u001b[0m\u001b[0;34m\u001b[0m\u001b[0m\n\u001b[0m",
            "\u001b[0;32m<ipython-input-11-521f9acd2bd9>\u001b[0m in \u001b[0;36mstart_chatbot\u001b[0;34m()\u001b[0m\n\u001b[1;32m      8\u001b[0m \u001b[0;34m\u001b[0m\u001b[0m\n\u001b[1;32m      9\u001b[0m         \u001b[0;32mwhile\u001b[0m \u001b[0;32mTrue\u001b[0m\u001b[0;34m:\u001b[0m\u001b[0;34m\u001b[0m\u001b[0;34m\u001b[0m\u001b[0m\n\u001b[0;32m---> 10\u001b[0;31m             \u001b[0muser_input\u001b[0m \u001b[0;34m=\u001b[0m \u001b[0minput\u001b[0m\u001b[0;34m(\u001b[0m\u001b[0;34m\"You: \"\u001b[0m\u001b[0;34m)\u001b[0m\u001b[0;34m\u001b[0m\u001b[0;34m\u001b[0m\u001b[0m\n\u001b[0m\u001b[1;32m     11\u001b[0m \u001b[0;34m\u001b[0m\u001b[0m\n\u001b[1;32m     12\u001b[0m             \u001b[0;32mif\u001b[0m \u001b[0muser_input\u001b[0m\u001b[0;34m.\u001b[0m\u001b[0mlower\u001b[0m\u001b[0;34m(\u001b[0m\u001b[0;34m)\u001b[0m \u001b[0;32min\u001b[0m \u001b[0;34m[\u001b[0m\u001b[0;34m\"exit\"\u001b[0m\u001b[0;34m,\u001b[0m \u001b[0;34m\"quit\"\u001b[0m\u001b[0;34m,\u001b[0m \u001b[0;34m\"q\"\u001b[0m\u001b[0;34m]\u001b[0m\u001b[0;34m:\u001b[0m\u001b[0;34m\u001b[0m\u001b[0;34m\u001b[0m\u001b[0m\n",
            "\u001b[0;32m/usr/local/lib/python3.11/dist-packages/ipykernel/kernelbase.py\u001b[0m in \u001b[0;36mraw_input\u001b[0;34m(self, prompt)\u001b[0m\n\u001b[1;32m    849\u001b[0m                 \u001b[0;34m\"raw_input was called, but this frontend does not support input requests.\"\u001b[0m\u001b[0;34m\u001b[0m\u001b[0;34m\u001b[0m\u001b[0m\n\u001b[1;32m    850\u001b[0m             )\n\u001b[0;32m--> 851\u001b[0;31m         return self._input_request(str(prompt),\n\u001b[0m\u001b[1;32m    852\u001b[0m             \u001b[0mself\u001b[0m\u001b[0;34m.\u001b[0m\u001b[0m_parent_ident\u001b[0m\u001b[0;34m,\u001b[0m\u001b[0;34m\u001b[0m\u001b[0;34m\u001b[0m\u001b[0m\n\u001b[1;32m    853\u001b[0m             \u001b[0mself\u001b[0m\u001b[0;34m.\u001b[0m\u001b[0m_parent_header\u001b[0m\u001b[0;34m,\u001b[0m\u001b[0;34m\u001b[0m\u001b[0;34m\u001b[0m\u001b[0m\n",
            "\u001b[0;32m/usr/local/lib/python3.11/dist-packages/ipykernel/kernelbase.py\u001b[0m in \u001b[0;36m_input_request\u001b[0;34m(self, prompt, ident, parent, password)\u001b[0m\n\u001b[1;32m    893\u001b[0m             \u001b[0;32mexcept\u001b[0m \u001b[0mKeyboardInterrupt\u001b[0m\u001b[0;34m:\u001b[0m\u001b[0;34m\u001b[0m\u001b[0;34m\u001b[0m\u001b[0m\n\u001b[1;32m    894\u001b[0m                 \u001b[0;31m# re-raise KeyboardInterrupt, to truncate traceback\u001b[0m\u001b[0;34m\u001b[0m\u001b[0;34m\u001b[0m\u001b[0m\n\u001b[0;32m--> 895\u001b[0;31m                 \u001b[0;32mraise\u001b[0m \u001b[0mKeyboardInterrupt\u001b[0m\u001b[0;34m(\u001b[0m\u001b[0;34m\"Interrupted by user\"\u001b[0m\u001b[0;34m)\u001b[0m \u001b[0;32mfrom\u001b[0m \u001b[0;32mNone\u001b[0m\u001b[0;34m\u001b[0m\u001b[0;34m\u001b[0m\u001b[0m\n\u001b[0m\u001b[1;32m    896\u001b[0m             \u001b[0;32mexcept\u001b[0m \u001b[0mException\u001b[0m \u001b[0;32mas\u001b[0m \u001b[0me\u001b[0m\u001b[0;34m:\u001b[0m\u001b[0;34m\u001b[0m\u001b[0;34m\u001b[0m\u001b[0m\n\u001b[1;32m    897\u001b[0m                 \u001b[0mself\u001b[0m\u001b[0;34m.\u001b[0m\u001b[0mlog\u001b[0m\u001b[0;34m.\u001b[0m\u001b[0mwarning\u001b[0m\u001b[0;34m(\u001b[0m\u001b[0;34m\"Invalid Message:\"\u001b[0m\u001b[0;34m,\u001b[0m \u001b[0mexc_info\u001b[0m\u001b[0;34m=\u001b[0m\u001b[0;32mTrue\u001b[0m\u001b[0;34m)\u001b[0m\u001b[0;34m\u001b[0m\u001b[0;34m\u001b[0m\u001b[0m\n",
            "\u001b[0;31mKeyboardInterrupt\u001b[0m: Interrupted by user"
          ]
        },
        {
          "output_type": "stream",
          "name": "stdout",
          "text": [
            "Hello! I am your product assistant. You can start asking questions now.\n",
            "(Type 'exit' to end the chat.)\n",
            "2025-02-18 05:29:44,563 INFO sqlalchemy.engine.Engine BEGIN (implicit)\n"
          ]
        },
        {
          "output_type": "stream",
          "name": "stderr",
          "text": [
            "INFO:sqlalchemy.engine.Engine:BEGIN (implicit)\n"
          ]
        },
        {
          "output_type": "stream",
          "name": "stdout",
          "text": [
            "2025-02-18 05:29:44,568 INFO sqlalchemy.engine.Engine PRAGMA main.table_info(\"products\")\n"
          ]
        },
        {
          "output_type": "stream",
          "name": "stderr",
          "text": [
            "INFO:sqlalchemy.engine.Engine:PRAGMA main.table_info(\"products\")\n"
          ]
        },
        {
          "output_type": "stream",
          "name": "stdout",
          "text": [
            "2025-02-18 05:29:44,572 INFO sqlalchemy.engine.Engine [raw sql] ()\n"
          ]
        },
        {
          "output_type": "stream",
          "name": "stderr",
          "text": [
            "INFO:sqlalchemy.engine.Engine:[raw sql] ()\n"
          ]
        },
        {
          "output_type": "stream",
          "name": "stdout",
          "text": [
            "2025-02-18 05:29:44,577 INFO sqlalchemy.engine.Engine COMMIT\n"
          ]
        },
        {
          "output_type": "stream",
          "name": "stderr",
          "text": [
            "INFO:sqlalchemy.engine.Engine:COMMIT\n"
          ]
        },
        {
          "output_type": "stream",
          "name": "stdout",
          "text": [
            "2025-02-18 05:29:44,582 INFO sqlalchemy.engine.Engine BEGIN (implicit)\n"
          ]
        },
        {
          "output_type": "stream",
          "name": "stderr",
          "text": [
            "INFO:sqlalchemy.engine.Engine:BEGIN (implicit)\n"
          ]
        },
        {
          "output_type": "stream",
          "name": "stdout",
          "text": [
            "2025-02-18 05:29:44,586 INFO sqlalchemy.engine.Engine SELECT products.id AS products_id, products.name AS products_name, products.category AS products_category, products.price AS products_price, products.description AS products_description, products.brand AS products_brand, products.stock AS products_stock, products.rating AS products_rating \n",
            "FROM products\n",
            " LIMIT ? OFFSET ?\n"
          ]
        },
        {
          "output_type": "stream",
          "name": "stderr",
          "text": [
            "INFO:sqlalchemy.engine.Engine:SELECT products.id AS products_id, products.name AS products_name, products.category AS products_category, products.price AS products_price, products.description AS products_description, products.brand AS products_brand, products.stock AS products_stock, products.rating AS products_rating \n",
            "FROM products\n",
            " LIMIT ? OFFSET ?\n"
          ]
        },
        {
          "output_type": "stream",
          "name": "stdout",
          "text": [
            "2025-02-18 05:29:44,588 INFO sqlalchemy.engine.Engine [cached since 2395s ago] (1, 0)\n"
          ]
        },
        {
          "output_type": "stream",
          "name": "stderr",
          "text": [
            "INFO:sqlalchemy.engine.Engine:[cached since 2395s ago] (1, 0)\n"
          ]
        },
        {
          "output_type": "stream",
          "name": "stdout",
          "text": [
            "Database already contains products.\n",
            "2025-02-18 05:29:44,592 INFO sqlalchemy.engine.Engine ROLLBACK\n"
          ]
        },
        {
          "output_type": "stream",
          "name": "stderr",
          "text": [
            "INFO:sqlalchemy.engine.Engine:ROLLBACK\n"
          ]
        }
      ]
    },
    {
      "cell_type": "code",
      "source": [
        "# Question Samples (Be Specific):\n",
        "\n",
        "# What's the cheapest product, and what is its description?\n",
        "# How many products does the company sell, and how many in the stock?\n",
        "# How many electronic products does the company sell, and what are their average rating?\n",
        "# What products cost less than $50? just give the names, prices, and ratings.\n",
        "# What categories does the company have? and what is the stock of each?\n",
        "# What are the top rated brands? and what are their average prices?\n",
        "# Show me all wireless products, with their description, and rating."
      ],
      "metadata": {
        "id": "_KXWXWqPq1CP"
      },
      "execution_count": null,
      "outputs": []
    },
    {
      "cell_type": "code",
      "source": [],
      "metadata": {
        "id": "IzWDPX_2yd7K"
      },
      "execution_count": null,
      "outputs": []
    }
  ]
}